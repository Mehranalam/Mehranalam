{
 "cells": [
  {
   "cell_type": "code",
   "execution_count": 123,
   "id": "1bb9b7cf-1716-4ffe-8b99-c517ad9a6216",
   "metadata": {},
   "outputs": [],
   "source": [
    "def getme_shifted(listy):\n",
    "    right = len(listy) - 1\n",
    "    \n",
    "    shifted_counter = 0\n",
    "    while listy[shifted_counter] > listy[right]:\n",
    "        shifted_counter += 1\n",
    "\n",
    "    return shifted_counter\n",
    "\n",
    "# ---------------- LOL -----------------\n",
    "\n",
    "def search(listy ,target):\n",
    "    shift = getme_shifted(listy)\n",
    "\n",
    "    low = []\n",
    "    high = []\n",
    "    n = 0\n",
    "    print(shift)\n",
    "    while n  < len(listy):\n",
    "        if listy[n] > listy[shift]:\n",
    "            high.append(listy[n])\n",
    "        else:\n",
    "            low.append(listy[n])\n",
    "\n",
    "        n += 1\n",
    "\n",
    "    return low, high"
   ]
  },
  {
   "cell_type": "code",
   "execution_count": 124,
   "id": "f414baa5-9b26-4628-ac78-bcc19bc2a3b2",
   "metadata": {},
   "outputs": [
    {
     "name": "stdout",
     "output_type": "stream",
     "text": [
      "5\n"
     ]
    },
    {
     "data": {
      "text/plain": [
       "([1], [6, 7, 8, 9, 10, 2, 3, 4, 5])"
      ]
     },
     "execution_count": 124,
     "metadata": {},
     "output_type": "execute_result"
    }
   ],
   "source": [
    "search([6,7,8,9,10,1,2,3,4,5] ,2)"
   ]
  },
  {
   "cell_type": "code",
   "execution_count": null,
   "id": "007da5fe-0ba7-4a4b-b0b0-83dcb325b1d2",
   "metadata": {},
   "outputs": [],
   "source": []
  },
  {
   "cell_type": "code",
   "execution_count": null,
   "id": "21535286-b58b-478a-8420-05305a4f7c64",
   "metadata": {},
   "outputs": [],
   "source": []
  }
 ],
 "metadata": {
  "kernelspec": {
   "display_name": "Python 3 (ipykernel)",
   "language": "python",
   "name": "python3"
  },
  "language_info": {
   "codemirror_mode": {
    "name": "ipython",
    "version": 3
   },
   "file_extension": ".py",
   "mimetype": "text/x-python",
   "name": "python",
   "nbconvert_exporter": "python",
   "pygments_lexer": "ipython3",
   "version": "3.12.3"
  }
 },
 "nbformat": 4,
 "nbformat_minor": 5
}
