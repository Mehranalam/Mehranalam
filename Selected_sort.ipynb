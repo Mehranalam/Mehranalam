{
 "cells": [
  {
   "cell_type": "markdown",
   "id": "382312ab-13cb-4f99-98b3-38225dfa2369",
   "metadata": {},
   "source": [
    "## Selected sort"
   ]
  },
  {
   "cell_type": "code",
   "execution_count": 50,
   "id": "c588df70-2c29-4851-84b7-297c84d98961",
   "metadata": {},
   "outputs": [],
   "source": [
    "def Big(arr):\n",
    "    lower = arr[0]\n",
    "    for init in arr:\n",
    "        if init < lower:\n",
    "            lower = init\n",
    "\n",
    "    arr.remove(lower)\n",
    "    return lower\n",
    "\n",
    "final = []\n",
    "def Sort(arr ,high ,loer):\n",
    "    if high > loer:\n",
    "        lower = Big(arr)\n",
    "        final.append(lower)\n",
    "        Sort(arr ,high-1 ,loer)\n",
    "    return final"
   ]
  },
  {
   "cell_type": "code",
   "execution_count": 51,
   "id": "4d055833-9519-4993-a02d-7eda21e5a2bb",
   "metadata": {},
   "outputs": [
    {
     "data": {
      "text/plain": [
       "[0, 1, 1, 2, 3, 3, 4, 5, 9, 10]"
      ]
     },
     "execution_count": 51,
     "metadata": {},
     "output_type": "execute_result"
    }
   ],
   "source": [
    "oop = [3,4,5,1,3,9,10,0,2,1]\n",
    "high = len(oop)\n",
    "Sort(oop ,high ,0)"
   ]
  },
  {
   "cell_type": "code",
   "execution_count": null,
   "id": "4951a379-8f0b-4cf6-90fb-0938c04cd435",
   "metadata": {},
   "outputs": [],
   "source": []
  },
  {
   "cell_type": "code",
   "execution_count": null,
   "id": "0d3da49a-58a0-4277-83c4-8480cbe14ceb",
   "metadata": {},
   "outputs": [],
   "source": []
  }
 ],
 "metadata": {
  "kernelspec": {
   "display_name": "Python 3 (ipykernel)",
   "language": "python",
   "name": "python3"
  },
  "language_info": {
   "codemirror_mode": {
    "name": "ipython",
    "version": 3
   },
   "file_extension": ".py",
   "mimetype": "text/x-python",
   "name": "python",
   "nbconvert_exporter": "python",
   "pygments_lexer": "ipython3",
   "version": "3.12.3"
  }
 },
 "nbformat": 4,
 "nbformat_minor": 5
}
