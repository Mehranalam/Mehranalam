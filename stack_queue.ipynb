{
 "cells": [
  {
   "cell_type": "markdown",
   "id": "81b0aca4-1c3a-4e0a-8f86-aaf753f37c7a",
   "metadata": {},
   "source": [
    "## Stack"
   ]
  },
  {
   "cell_type": "markdown",
   "id": "c2f30538-f1e9-4281-b211-c5e6f025cceb",
   "metadata": {},
   "source": [
    "Think of it this way:\n",
    "\n",
    "    Pushing an element onto the stack is like adding a new plate on top.\n",
    "    Popping an element removes the top plate from the stack.\n",
    "\n",
    "Key Operations on Stack Data Structures\n",
    "\n",
    "    Push: Adds an element to the top of the stack.\n",
    "    Pop: Removes the top element from the stack.\n",
    "    Peek: Returns the top element without removing it.\n",
    "    IsEmpty: Checks if the stack is empty.\n",
    "    IsFull: Checks if the stack is full (in case of fixed-size arrays).\n"
   ]
  },
  {
   "cell_type": "code",
   "execution_count": 30,
   "id": "cd27aa04-96b3-4d81-a54e-f712bf95d9c2",
   "metadata": {},
   "outputs": [
    {
     "name": "stdout",
     "output_type": "stream",
     "text": [
      "Returns the top element without removing it , sina\n"
     ]
    }
   ],
   "source": [
    "name = [\"mehran\" ,\"hasti\" ,\"reza\" ,\"matin\" ]\n",
    "def Push(element, stack):\n",
    "    stack.append(element)\n",
    "    return \"Use PUSH : Adds an element to the top of the stack\"\n",
    "\n",
    "def Pop(stack):\n",
    "    stack.pop()\n",
    "    return \"Removes the top element from the stack\"\n",
    "\n",
    "def Peek(stack):\n",
    "    last_in = stack.pop()\n",
    "    Push(last_in, stack)\n",
    "    return f\"Returns the top element without removing it , {last_in}\"\n",
    "\n",
    "def IsEmpty(stack):\n",
    "    if len(stack) == 0:\n",
    "        return True\n",
    "    else:\n",
    "        return False\n",
    "\n",
    "def IsFull(stack, target):\n",
    "    if len(stack) == target:\n",
    "        return True\n",
    "    else:\n",
    "        return False\n",
    "\n",
    "Push(\"sina\" ,name)\n",
    "\n",
    "last = Peek(name)\n",
    "IsEmpty(name)\n",
    "IsFull(name, 2)\n",
    "\n",
    "print(last)"
   ]
  },
  {
   "cell_type": "markdown",
   "id": "29b112d8-2986-410a-b21e-edcd292ac919",
   "metadata": {},
   "source": [
    "## queue"
   ]
  },
  {
   "cell_type": "markdown",
   "id": "1b228980-3076-4996-8a9a-6965ac5da7e8",
   "metadata": {},
   "source": [
    "Basic Operations of Queue Data Structure\n",
    "\n",
    "    Enqueue (Insert): Adds an element to the rear of the queue.\n",
    "    Dequeue (Delete): Removes and returns the element from the front of the queue.\n",
    "    Peek: Returns the element at the front of the queue without removing it.\n",
    "    Empty: Checks if the queue is empty.\n",
    "    Full: Checks if the queue is full.\n"
   ]
  },
  {
   "cell_type": "code",
   "execution_count": 41,
   "id": "d591ecbf-3652-457d-8631-822bfbf2ac3b",
   "metadata": {},
   "outputs": [],
   "source": [
    "name = [\"mehran\" ,\"hasti\" ,\"reza\" ,\"matin\" ] # <-\n",
    "      # Front      <-      <-      # back - end\n",
    "def Enqueue(element ,queue):\n",
    "    queue.append(element)\n",
    "    return \"(Insert): Adds an element to the rear of the queue\"\n",
    "\n",
    "Enqueue(\"k\" ,name)\n",
    "def Dequeue(queue):\n",
    "    first_in = queue[0]\n",
    "    queue.remove(queue[0])\n",
    "    return first_in\n",
    "\n",
    "def Q_Peek(queue):\n",
    "    return queue[0]"
   ]
  },
  {
   "cell_type": "code",
   "execution_count": null,
   "id": "1c671cb1-b819-4bfd-8d83-9029c6e30942",
   "metadata": {},
   "outputs": [],
   "source": []
  }
 ],
 "metadata": {
  "kernelspec": {
   "display_name": "Python 3 (ipykernel)",
   "language": "python",
   "name": "python3"
  },
  "language_info": {
   "codemirror_mode": {
    "name": "ipython",
    "version": 3
   },
   "file_extension": ".py",
   "mimetype": "text/x-python",
   "name": "python",
   "nbconvert_exporter": "python",
   "pygments_lexer": "ipython3",
   "version": "3.12.3"
  }
 },
 "nbformat": 4,
 "nbformat_minor": 5
}
